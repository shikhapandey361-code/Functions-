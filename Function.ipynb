{
  "nbformat": 4,
  "nbformat_minor": 0,
  "metadata": {
    "colab": {
      "provenance": []
    },
    "kernelspec": {
      "name": "python3",
      "display_name": "Python 3"
    },
    "language_info": {
      "name": "python"
    }
  },
  "cells": [
    {
      "cell_type": "code",
      "execution_count": null,
      "metadata": {
        "id": "ITP7oD6nDCY4"
      },
      "outputs": [],
      "source": []
    },
    {
      "cell_type": "markdown",
      "source": [
        "FUNCTIONS\n",
        "\n",
        "1 What is the difference between a function and a method in Python?\n",
        "> A function is independent and can be used anywhere.\n",
        "\n",
        "> A method is a function that is bound to an object and is called using dot notation.\n",
        "\n",
        "2 Explain the concept of function arguments and parameters in Python.\n",
        "> Parameters = defined in the function signature (like variables).\n",
        "\n",
        "> Arguments = actual values passed when calling the function.\n",
        "\n",
        "3 What are the different ways to define and call a function in Python?\n",
        "> Functions in Python can be simple, parameterized, defaulted, keyword-based, variable-length, lambda (anonymous), nested, or recursive depending on usage.\n",
        "\n",
        "4 What is the purpose of the `return` statement in a Python function?\n",
        "> the return statement in Python functions is used to provide the output of a function back to the part of the program that called it. It ends the execution of the function and passes a value (or None if no value is specified) to the caller. This allows functions to produce results that can be reused, stored, or further processed.\n",
        "\n",
        "5 What are iterators in Python and how do they differ from iterables?\n",
        "> Iterable = collection of elements\n",
        "\n",
        "> Iterator = tool to step through those elements\n",
        "\n",
        "6  Explain the concept of generators in Python and how they are defined.\n",
        "> Generators are iterators created using yield or generator expressions that produce values one at a time, saving memory and enabling lazy evaluation.\n",
        "\n",
        "7  What are the advantages of using generators over regular functions?\n",
        "> Generators are memory-efficient, faster for large or infinite data, and make code simpler and cleaner than regular functions that return complete lists.\n",
        "\n",
        "8  What is a lambda function in Python and when is it typically used?\n",
        "> A lambda function is an inline, anonymous function used for short, simple operations like quick calculations, sorting, or functional programming (map, filter, reduce).\n",
        "\n",
        "9 Explain the purpose and usage of the `map()` function in Python.\n",
        "> map() Function in Python\n",
        "\n",
        "> The map() function is used to apply a function to each item in an iterable (like list, tuple, etc.) and returns a map object (which can be converted into a list, tuple, etc.).\n",
        "\n",
        "10 What is the difference between `map()`, `reduce()`, and `filter()` functions in Python?\n",
        "\n",
        "> map() → Applies a function to each item → returns all items (transformed).\n",
        "\n",
        "> filter() → Keeps only items that meet a condition → returns subset.\n",
        "\n",
        "> reduce() → Applies a function cumulatively → returns one single value.\n",
        "\n",
        "11 Using pen & Paper write the internal mechanism for sum operation using  reduce function on this given\n",
        "list:[47,11,42,13];\n",
        "\n",
        ">Practical Questions:"
      ],
      "metadata": {
        "id": "199daQAdEFgm"
      }
    },
    {
      "cell_type": "code",
      "source": [
        "# # Write a Python function that takes a list of numbers as input and returns the sum of all even numbers in\n",
        "# the list.\n",
        "def sum_of_even_numbers(numbers):\n",
        "    sum = 0\n",
        "    for num in numbers:\n",
        "        if num % 2 == 0:\n",
        "            sum += num\n",
        "    return sum\n"
      ],
      "metadata": {
        "id": "Qo6FoZUpHlsm"
      },
      "execution_count": 1,
      "outputs": []
    },
    {
      "cell_type": "code",
      "source": [
        "# 2 Create a Python function that accepts a string and returns the reverse of that string.\n",
        "def reverse_string(string):\n",
        "    return string[::-1]"
      ],
      "metadata": {
        "id": "3urrzqkvHsui"
      },
      "execution_count": 2,
      "outputs": []
    },
    {
      "cell_type": "code",
      "source": [
        "# 3  Implement a Python function that takes a list of integers and returns a new list containing the squares of\n",
        "# # each number.\n",
        "\n",
        "def square_list(numbers):\n",
        "    return [x**2 for x in numbers]\n",
        "\n",
        "nums = [1, 2, 3, 4, 5]\n",
        "result = square_list(nums)\n",
        "print(result)   # Output: [1, 4, 9, 16, 25]\n"
      ],
      "metadata": {
        "colab": {
          "base_uri": "https://localhost:8080/"
        },
        "id": "xI9FxMGbHyo3",
        "outputId": "657f4df4-7acf-44ac-fbf6-f9db788c70b6"
      },
      "execution_count": 3,
      "outputs": [
        {
          "output_type": "stream",
          "name": "stdout",
          "text": [
            "[1, 4, 9, 16, 25]\n"
          ]
        }
      ]
    },
    {
      "cell_type": "code",
      "source": [
        "# 4  Write a Python function that checks if a given number is prime or not from 1 to 200.\n",
        "def is_prime(num):\n",
        "    if num < 2:\n",
        "        return False\n",
        "    for i in range(2, int(num**0.5) + 1):\n",
        "        if num % i == 0:\n",
        "            return False\n",
        "    return True\n",
        "\n",
        "for n in range(1, 201):\n",
        "    if is_prime(n):\n",
        "        print(n, \"is a Prime number\")\n",
        "\n"
      ],
      "metadata": {
        "colab": {
          "base_uri": "https://localhost:8080/"
        },
        "id": "G6AWlsdDH3N7",
        "outputId": "611916e0-fb5c-4a80-e668-442a660a12ba"
      },
      "execution_count": 4,
      "outputs": [
        {
          "output_type": "stream",
          "name": "stdout",
          "text": [
            "2 is a Prime number\n",
            "3 is a Prime number\n",
            "5 is a Prime number\n",
            "7 is a Prime number\n",
            "11 is a Prime number\n",
            "13 is a Prime number\n",
            "17 is a Prime number\n",
            "19 is a Prime number\n",
            "23 is a Prime number\n",
            "29 is a Prime number\n",
            "31 is a Prime number\n",
            "37 is a Prime number\n",
            "41 is a Prime number\n",
            "43 is a Prime number\n",
            "47 is a Prime number\n",
            "53 is a Prime number\n",
            "59 is a Prime number\n",
            "61 is a Prime number\n",
            "67 is a Prime number\n",
            "71 is a Prime number\n",
            "73 is a Prime number\n",
            "79 is a Prime number\n",
            "83 is a Prime number\n",
            "89 is a Prime number\n",
            "97 is a Prime number\n",
            "101 is a Prime number\n",
            "103 is a Prime number\n",
            "107 is a Prime number\n",
            "109 is a Prime number\n",
            "113 is a Prime number\n",
            "127 is a Prime number\n",
            "131 is a Prime number\n",
            "137 is a Prime number\n",
            "139 is a Prime number\n",
            "149 is a Prime number\n",
            "151 is a Prime number\n",
            "157 is a Prime number\n",
            "163 is a Prime number\n",
            "167 is a Prime number\n",
            "173 is a Prime number\n",
            "179 is a Prime number\n",
            "181 is a Prime number\n",
            "191 is a Prime number\n",
            "193 is a Prime number\n",
            "197 is a Prime number\n",
            "199 is a Prime number\n"
          ]
        }
      ]
    },
    {
      "cell_type": "code",
      "source": [
        "# 5 Create an iterator class in Python that generates the Fibonacci sequence up to a specified number of\n",
        "# terms.\n",
        "class FibonacciIterator:\n",
        "    def __init__(self, n_terms):\n",
        "        self.n_terms = n_terms   # total number of terms\n",
        "        self.count = 0           # counter to track terms\n",
        "        self.a, self.b = 0, 1    # first two Fibonacci numbers\n",
        "\n",
        "    def __iter__(self):\n",
        "        return self\n",
        "\n",
        "    def __next__(self):\n",
        "        if self.count < self.n_terms:\n",
        "            result = self.a\n",
        "            self.a, self.b = self.b, self.a + self.b\n",
        "            self.count += 1\n",
        "            return result\n",
        "        else:\n",
        "            raise StopIteration\n",
        "fib = FibonacciIterator(10)\n",
        "\n",
        "for num in fib:\n",
        "    print(num)\n",
        "\n",
        "\n",
        "\n",
        "\n"
      ],
      "metadata": {
        "colab": {
          "base_uri": "https://localhost:8080/"
        },
        "id": "kLoSktylH7F3",
        "outputId": "0ccba97f-99e2-4643-a8c6-91f7535d1671"
      },
      "execution_count": 5,
      "outputs": [
        {
          "output_type": "stream",
          "name": "stdout",
          "text": [
            "0\n",
            "1\n",
            "1\n",
            "2\n",
            "3\n",
            "5\n",
            "8\n",
            "13\n",
            "21\n",
            "34\n"
          ]
        }
      ]
    },
    {
      "cell_type": "code",
      "source": [
        "# 6  Write a generator function in Python that yields the powers of 2 up to a given exponent.\n",
        "def power_of_two(n):\n",
        "    for i in range(n+1):\n",
        "        yield 2**i\n",
        "\n",
        "\n"
      ],
      "metadata": {
        "id": "5udw_cJJICw-"
      },
      "execution_count": 6,
      "outputs": []
    },
    {
      "cell_type": "code",
      "source": [
        "# 6  Write a generator function in Python that yields the powers of 2 up to a given exponent.\n",
        "def power_of_two(n):\n",
        "    for i in range(n+1):\n",
        "        yield 2**i\n",
        "\n",
        "\n"
      ],
      "metadata": {
        "id": "EfvuP9CeIHWH"
      },
      "execution_count": 8,
      "outputs": []
    },
    {
      "cell_type": "code",
      "source": [
        "# 5 Create an iterator class in Python that generates the Fibonacci sequence up to a specified number of\n",
        "# terms.\n",
        "class FibonacciIterator:\n",
        "    def __init__(self, n_terms):\n",
        "        self.n_terms = n_terms   # total number of terms\n",
        "        self.count = 0           # counter to track terms\n",
        "        self.a, self.b = 0, 1    # first two Fibonacci numbers\n",
        "\n",
        "    def __iter__(self):\n",
        "        return self\n",
        "\n",
        "    def __next__(self):\n",
        "        if self.count < self.n_terms:\n",
        "            result = self.a\n",
        "            self.a, self.b = self.b, self.a + self.b\n",
        "            self.count += 1\n",
        "            return result\n",
        "        else:\n",
        "            raise StopIteration\n",
        "fib = FibonacciIterator(10)\n",
        "\n",
        "for num in fib:\n",
        "    print(num)\n",
        "\n",
        "\n",
        "\n",
        "\n"
      ],
      "metadata": {
        "colab": {
          "base_uri": "https://localhost:8080/"
        },
        "id": "Ozn5RE2qIXFx",
        "outputId": "b8bf599a-f28c-4b7b-a923-3a76c4bb42ef"
      },
      "execution_count": 9,
      "outputs": [
        {
          "output_type": "stream",
          "name": "stdout",
          "text": [
            "0\n",
            "1\n",
            "1\n",
            "2\n",
            "3\n",
            "5\n",
            "8\n",
            "13\n",
            "21\n",
            "34\n"
          ]
        }
      ]
    },
    {
      "cell_type": "code",
      "source": [
        "# 8  Use a lambda function in Python to sort a list of tuples based on the second element of each tuple.\n",
        "data = [(1, 5), (3, 2), (2, 8), (4, 1)]\n",
        "sorted_data = sorted(data, key=lambda x: x[1])\n",
        "print(sorted_data)"
      ],
      "metadata": {
        "colab": {
          "base_uri": "https://localhost:8080/"
        },
        "id": "85BV87IhIhmj",
        "outputId": "7728bd07-68f5-41ca-f034-9e6ac69c53ef"
      },
      "execution_count": 11,
      "outputs": [
        {
          "output_type": "stream",
          "name": "stdout",
          "text": [
            "[(4, 1), (3, 2), (1, 5), (2, 8)]\n"
          ]
        }
      ]
    },
    {
      "cell_type": "code",
      "source": [
        "# 9 Write a Python program that uses `map()` to convert a list of temperatures from Celsius to Fahrenheit.\n",
        "celsius_temps = [0, 10, 20, 30, 40]\n",
        "fahrenheit_temps = list(map(lambda c: (c * 9/5) + 32, celsius_temps))\n",
        "print(fahrenheit_temps)\n"
      ],
      "metadata": {
        "colab": {
          "base_uri": "https://localhost:8080/"
        },
        "id": "cfqw_EfQIrST",
        "outputId": "e2af90eb-03fc-4082-fa72-e4edaf6bf723"
      },
      "execution_count": 12,
      "outputs": [
        {
          "output_type": "stream",
          "name": "stdout",
          "text": [
            "[32.0, 50.0, 68.0, 86.0, 104.0]\n"
          ]
        }
      ]
    },
    {
      "cell_type": "code",
      "source": [
        "# 9 Write a Python program that uses `map()` to convert a list of temperatures from Celsius to Fahrenheit.\n",
        "celsius_temps = [0, 10, 20, 30, 40]\n",
        "fahrenheit_temps = list(map(lambda c: (c * 9/5) + 32, celsius_temps))\n",
        "print(fahrenheit_temps)\n"
      ],
      "metadata": {
        "colab": {
          "base_uri": "https://localhost:8080/"
        },
        "id": "x9HjdlKkIvjy",
        "outputId": "9fb7ca40-2506-41eb-8f66-53d833464e47"
      },
      "execution_count": 13,
      "outputs": [
        {
          "output_type": "stream",
          "name": "stdout",
          "text": [
            "[32.0, 50.0, 68.0, 86.0, 104.0]\n"
          ]
        }
      ]
    },
    {
      "cell_type": "code",
      "source": [
        "# 11\n",
        "orders = [\n",
        "    [\"34587\", \"Learning Python\", 4, 40.95],\n",
        "    [\"98762\", \"Programming with Python\", 5, 56.80],\n",
        "    [\"77226\", \"Python Cookbook\", 3, 32.95],\n",
        "    [\"88112\", \"Introduction to Algorithms\", 3, 24.99]\n",
        "]\n",
        "\n",
        "orders = [\n",
        "    [\"34587\", \"Learning Python\", 4, 40.95],\n",
        "    [\"98762\", \"Programming with Python\", 5, 56.80],\n",
        "    [\"77226\", \"Python Cookbook\", 3, 32.95],\n",
        "    [\"88112\", \"Introduction to Algorithms\", 3, 24.99]\n",
        "]\n",
        "\n",
        "# Using map with lambda\n",
        "result = list(map(lambda x: (x[0], x[2] * x[3] if x[2] * x[3] >= 100 else x[2] * x[3] + 10), orders))\n",
        "\n",
        "print(result)\n"
      ],
      "metadata": {
        "colab": {
          "base_uri": "https://localhost:8080/"
        },
        "id": "cI7ryZEmI1QA",
        "outputId": "43bd84d2-057c-4afc-fa78-7306810b5a9b"
      },
      "execution_count": 14,
      "outputs": [
        {
          "output_type": "stream",
          "name": "stdout",
          "text": [
            "[('34587', 163.8), ('98762', 284.0), ('77226', 108.85000000000001), ('88112', 84.97)]\n"
          ]
        }
      ]
    },
    {
      "cell_type": "markdown",
      "source": [
        "[link text](https:// [link text](https://))"
      ],
      "metadata": {
        "id": "RjDigu_rEdMg"
      }
    },
    {
      "cell_type": "markdown",
      "source": [],
      "metadata": {
        "id": "at6BlJExEe8C"
      }
    },
    {
      "cell_type": "markdown",
      "source": [],
      "metadata": {
        "id": "xYMe50zHED3V"
      }
    }
  ]
}